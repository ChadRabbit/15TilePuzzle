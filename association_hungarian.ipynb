{
  "nbformat": 4,
  "nbformat_minor": 0,
  "metadata": {
    "colab": {
      "name": "association_hungarian.ipynb",
      "provenance": [],
      "include_colab_link": true
    },
    "kernelspec": {
      "name": "python3",
      "display_name": "Python 3"
    }
  },
  "cells": [
    {
      "cell_type": "markdown",
      "metadata": {
        "id": "view-in-github",
        "colab_type": "text"
      },
      "source": [
        "<a href=\"https://colab.research.google.com/github/ChadRabbit/15TilePuzzle/blob/main/association_hungarian.ipynb\" target=\"_parent\"><img src=\"https://colab.research.google.com/assets/colab-badge.svg\" alt=\"Open In Colab\"/></a>"
      ]
    },
    {
      "cell_type": "markdown",
      "metadata": {
        "id": "Z-Zy5R377k8C"
      },
      "source": [
        "# Welcome to the Association Workshop\n",
        "You will learn how to associate bounding boxes using The Hungarian Algorithm\n"
      ]
    },
    {
      "cell_type": "markdown",
      "metadata": {
        "id": "ou2n2iHr1uoL"
      },
      "source": [
        "### Let's start with the problem we want to solve! We'll create two bounding boxes and try to associate them!"
      ]
    },
    {
      "cell_type": "code",
      "metadata": {
        "id": "lkFrXEr31UKq",
        "outputId": "b67188a3-8d17-47e1-d44d-fbdf9d6ed4ea",
        "colab": {
          "base_uri": "https://localhost:8080/"
        }
      },
      "source": [
        "import random\n",
        "from scipy.optimize import linear_sum_assignment #Library that solves the assingment problem on it's own,Args:-cost_matrix\n",
        "import numpy as np\n",
        "\n",
        "# Detections at time 0\n",
        "A = [100, 120, 130, 330]\n",
        "B = [300, 350, 400, 400]\n",
        "C = [ 577, 138, 709, 244]\n",
        "\n",
        "# Detections at time 1\n",
        "D = [50, 400, 100, 550] # Should no frame\n",
        "E = [99, 120, 132, 333] # Should match frame A\n",
        "F = [302, 352, 406, 400] # Shold match frame B\n",
        "\n",
        "old = [A,B,C]\n",
        "new = [D,E,F]\n",
        "print(old)\n",
        "print(new)"
      ],
      "execution_count": 1,
      "outputs": [
        {
          "output_type": "stream",
          "name": "stdout",
          "text": [
            "[[100, 120, 130, 330], [300, 350, 400, 400], [577, 138, 709, 244]]\n",
            "[[50, 400, 100, 550], [99, 120, 132, 333], [302, 352, 406, 400]]\n"
          ]
        }
      ]
    },
    {
      "cell_type": "markdown",
      "metadata": {
        "id": "Cc2PDuhJ2ZWI"
      },
      "source": [
        "### Since bounding box coordinates is all we have, we'll match using the IOU metric\n",
        "\n",
        "\n",
        "1. Create a matrix and store the IOU for all boxes\n",
        "2. Apply the Hungarian Algorithm\n",
        "3. Identify false positives and false negatives"
      ]
    },
    {
      "cell_type": "code",
      "metadata": {
        "id": "pX7yTGkG33g-"
      },
      "source": [
        "### HELPER IOU FUNCTION\n",
        "def box_iou(box1, box2):\t\t\t#Define the overlapping region\n",
        "\n",
        "#NOTE:-NOT FOLLOWING CARTESION COORDINATES,IN IMAGE/MATRIX,AS WE GO UP,Y VALUE DECREASES\n",
        "\txA = max(box1[0], box2[0])   #Left side of box A,and left side of box B mein jo zyada right mein hai\n",
        "\tyA = max(box1[1], box2[1])\t\t#Upper side of box A,and Upper side of box B mein jo zyada upar hai??\n",
        "\txB = min(box1[2], box2[2])\t\t#right side of box A,and right side of box B mein jo zyada left mein hai hence min\n",
        "\tyB = min(box1[3], box2[3])\t\t#Lower side of box A,and lower side of box B mein jo zyada neeche mein hai??\n",
        "\tinter_area = max(0, xB - xA + 1) * max(0, yB - yA + 1) #abs((xi2 - xi1)*(yi2 - yi1))\n",
        "\t# Calculate the Union area by using Formula: Union(A,B) = A + B - Inter(A,B)\n",
        "\tbox1_area = (box1[2] - box1[0] + 1) * (box1[3] - box1[1] + 1) #abs((box1[3] - box1[1])*(box1[2]- box1[0]))\n",
        "\tbox2_area = (box2[2] - box2[0] + 1) * (box2[3] - box2[1] + 1) #abs((box2[3] - box2[1])*(box2[2]- box2[0]))\n",
        "\tunion_area = (box1_area + box2_area) - inter_area\n",
        "\t# compute the IoU\n",
        "\tiou = inter_area/float(union_area)\n",
        "\treturn iou"
      ],
      "execution_count": 2,
      "outputs": []
    },
    {
      "cell_type": "code",
      "metadata": {
        "id": "yKt2hAcc1s5-",
        "outputId": "ce2df42b-e374-4f45-b704-9d3217dcc4f1",
        "colab": {
          "base_uri": "https://localhost:8080/"
        }
      },
      "source": [
        "# Go through old boxes and new boxes and compute an IOU to store in a matrix\n",
        "\n",
        "#TODO\n",
        "iou_matrix = np.zeros((len(old),len(new)),dtype=np.float32)  #A zero matrix with size of 3X3\n",
        "\n",
        "for i,old_box in enumerate(old):\t\t\t\t\t\t\t\t#Loops over i(index:- 0,1,2) and old_boxes(A,B,C)\n",
        "\tfor j,new_box in enumerate(new):\t\t\t\t\t\t\t#Loops over i(index:- 0,1,2) and new_boxes(A,B,C)\n",
        "\t\tiou_matrix[i][j] = box_iou(old_box, new_box)\t\t\t\t#Calculates the IOU between every two boxes\n",
        "\n",
        "print(iou_matrix)\n"
      ],
      "execution_count": 5,
      "outputs": [
        {
          "output_type": "stream",
          "name": "stdout",
          "text": [
            "[[0.         0.89898294 0.        ]\n",
            " [0.         0.         0.8909091 ]\n",
            " [0.         0.         0.        ]]\n"
          ]
        }
      ]
    },
    {
      "cell_type": "code",
      "metadata": {
        "id": "TffZoXXc4LWU",
        "outputId": "4d14df57-13e9-4d83-aed8-7948adc4a6f3",
        "colab": {
          "base_uri": "https://localhost:8080/"
        }
      },
      "source": [
        "# Go through the IOU matrix and replace positive values with 1\n",
        "# Always take the maximum value (if there are two positive values)\n",
        "# TODO\n",
        "for idx, iou in enumerate(iou_matrix):\n",
        "\tiou_matrix[idx] = [1 if (x==max(iou) and max(iou)>0) else 0 for x in iou]           #Jahan bhi chance tha wahan 1 kar diya\n",
        "\n",
        "print(\"Match Matrix\")\n",
        "print(iou_matrix)"
      ],
      "execution_count": 6,
      "outputs": [
        {
          "output_type": "stream",
          "name": "stdout",
          "text": [
            "Match Matrix\n",
            "[[0. 1. 0.]\n",
            " [0. 0. 1.]\n",
            " [0. 0. 0.]]\n"
          ]
        }
      ]
    },
    {
      "cell_type": "code",
      "metadata": {
        "id": "wPDGZWny4mYf",
        "outputId": "c40aa29e-cc5f-4315-d013-36c0b7512cdf",
        "colab": {
          "base_uri": "https://localhost:8080/"
        }
      },
      "source": [
        "# Call the Linear Assignment Method (Hungarian Algorithm)\n",
        "hungarian_row, hungarian_col = linear_sum_assignment(-iou_matrix)   #Negative since Hungarian method minimizes the cost\n",
        "print(\"Hungarian Matrix\")\n",
        "print(hungarian_row)          #Representing the old box indices\n",
        "print(hungarian_col)          #Represnting the new box indices"
      ],
      "execution_count": 7,
      "outputs": [
        {
          "output_type": "stream",
          "name": "stdout",
          "text": [
            "Hungarian Matrix\n",
            "[0 1 2]\n",
            "[1 2 0]\n"
          ]
        }
      ]
    },
    {
      "cell_type": "markdown",
      "source": [
        "Hungarian Matrix\n",
        "\n",
        "[0 1 2]\n",
        "\n",
        "[1 2 0]\n",
        "\n",
        "This means that 0th old matches with 1st of new,1st of old matches with 2nd of new,and 2nd of old matches with 0th of new(Column wise)\n",
        "This still doesn't eliminate the cases where they might not match at all\n"
      ],
      "metadata": {
        "id": "4p4cOLqX6K7A"
      }
    },
    {
      "cell_type": "code",
      "metadata": {
        "id": "3ldjPnM24kaH"
      },
      "source": [
        "# Declate a list for matches, unmatched detections, and unmatched trackings\n",
        "matches = []\n",
        "unmatched_trackers, unmatched_detections = [], []"
      ],
      "execution_count": 8,
      "outputs": []
    },
    {
      "cell_type": "code",
      "metadata": {
        "id": "HyfnplL6jwbc",
        "outputId": "b2c09d57-8e46-43a0-c6cc-539f49f5e9de",
        "colab": {
          "base_uri": "https://localhost:8080/"
        }
      },
      "source": [
        "# Just a reshape of the hungarian matrix to have it properly\n",
        "hungarian = np.array(list(zip(hungarian_row, hungarian_col)))  #COnverts them to 2d matrix for better understanding\n",
        "print(hungarian)"
      ],
      "execution_count": 9,
      "outputs": [
        {
          "output_type": "stream",
          "name": "stdout",
          "text": [
            "[[0 1]\n",
            " [1 2]\n",
            " [2 0]]\n"
          ]
        }
      ]
    },
    {
      "cell_type": "code",
      "metadata": {
        "id": "wjvUvqYFjoXP",
        "outputId": "a69df7b7-cc76-4136-9590-1d1f1f0c92f7",
        "colab": {
          "base_uri": "https://localhost:8080/"
        }
      },
      "source": [
        "for h in hungarian:\n",
        "    if(iou_matrix[h[0],h[1]]<0.3): #If IOU is less than .03,we don't consider them a match\n",
        "        unmatched_trackers.append(old[h[0]])\n",
        "        unmatched_detections.append(new[h[1]])\n",
        "    else:\n",
        "        matches.append(h.reshape(1,2))\n",
        "\n",
        "if(len(matches)==0):\n",
        "\tmatches = np.empty((0,2),dtype=int)\n",
        "else:\n",
        "\tmatches = np.concatenate(matches,axis=0)\n",
        "\n",
        "print(\"Matches \")\n",
        "print( matches)\n",
        "print(\"Unmatched det\")\n",
        "print(unmatched_detections)\n",
        "print(\"Unmatched Trackers\")\n",
        "print(unmatched_trackers)"
      ],
      "execution_count": 10,
      "outputs": [
        {
          "output_type": "stream",
          "name": "stdout",
          "text": [
            "Matches \n",
            "[[0 1]\n",
            " [1 2]]\n",
            "Unmatched det\n",
            "[[50, 400, 100, 550]]\n",
            "Unmatched Trackers\n",
            "[[577, 138, 709, 244]]\n"
          ]
        }
      ]
    },
    {
      "cell_type": "code",
      "metadata": {
        "id": "nmOt7EiqkXCg"
      },
      "source": [
        "for t,trk in enumerate(old):\n",
        "\tif(t not in hungarian[:,0]):\n",
        "\t\tunmatched_trackers.append(trk)\n",
        "\n",
        "for d, det in enumerate(new):\n",
        "\tif(d not in hungarian[:,1]):\n",
        "    \t\tunmatched_detections.append(det)"
      ],
      "execution_count": null,
      "outputs": []
    },
    {
      "cell_type": "code",
      "metadata": {
        "id": "iF9OwM975ck-",
        "outputId": "0bd0002e-59b0-4126-f7f1-2df7ce2977b6",
        "colab": {
          "base_uri": "https://localhost:8080/"
        }
      },
      "source": [
        "# Now, we want to display the matched bounding boxes\n",
        "display_match = []\n",
        "for matching in matches:\n",
        "    display_match.append((new[matching[1]],old[matching[0]]))\n",
        "\n",
        "print(\"Matched Detections\")\n",
        "print(display_match)\n",
        "print(\"Unmatched Detections \")\n",
        "print(np.array(unmatched_detections))\n",
        "print(\"Unmatched trackers \")\n",
        "print(np.array(unmatched_trackers))"
      ],
      "execution_count": 11,
      "outputs": [
        {
          "output_type": "stream",
          "name": "stdout",
          "text": [
            "Matched Detections\n",
            "[([99, 120, 132, 333], [100, 120, 130, 330]), ([302, 352, 406, 400], [300, 350, 400, 400])]\n",
            "Unmatched Detections \n",
            "[[ 50 400 100 550]]\n",
            "Unmatched trackers \n",
            "[[577 138 709 244]]\n"
          ]
        }
      ]
    },
    {
      "cell_type": "code",
      "metadata": {
        "id": "qHURprhBuyNE"
      },
      "source": [],
      "execution_count": null,
      "outputs": []
    }
  ]
}